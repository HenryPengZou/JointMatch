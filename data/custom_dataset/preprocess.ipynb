{
 "cells": [
  {
   "cell_type": "code",
   "execution_count": 1,
   "metadata": {},
   "outputs": [
    {
     "data": {
      "text/html": [
       "<div>\n",
       "<style scoped>\n",
       "    .dataframe tbody tr th:only-of-type {\n",
       "        vertical-align: middle;\n",
       "    }\n",
       "\n",
       "    .dataframe tbody tr th {\n",
       "        vertical-align: top;\n",
       "    }\n",
       "\n",
       "    .dataframe thead th {\n",
       "        text-align: right;\n",
       "    }\n",
       "</style>\n",
       "<table border=\"1\" class=\"dataframe\">\n",
       "  <thead>\n",
       "    <tr style=\"text-align: right;\">\n",
       "      <th></th>\n",
       "      <th>label</th>\n",
       "      <th>content</th>\n",
       "    </tr>\n",
       "  </thead>\n",
       "  <tbody>\n",
       "    <tr>\n",
       "      <th>0</th>\n",
       "      <td>1</td>\n",
       "      <td>Reuters - Saboteurs blew up an internal oil\\pi...</td>\n",
       "    </tr>\n",
       "    <tr>\n",
       "      <th>1</th>\n",
       "      <td>1</td>\n",
       "      <td>The UN envoy to Sudan urged the government to ...</td>\n",
       "    </tr>\n",
       "    <tr>\n",
       "      <th>2</th>\n",
       "      <td>1</td>\n",
       "      <td>Palestinian gunmen have released an Israeli Ar...</td>\n",
       "    </tr>\n",
       "    <tr>\n",
       "      <th>3</th>\n",
       "      <td>1</td>\n",
       "      <td>Washington on Tuesday swept aside objections f...</td>\n",
       "    </tr>\n",
       "    <tr>\n",
       "      <th>4</th>\n",
       "      <td>1</td>\n",
       "      <td>DEAF children helped by kidnapped Margaret Has...</td>\n",
       "    </tr>\n",
       "  </tbody>\n",
       "</table>\n",
       "</div>"
      ],
      "text/plain": [
       "   label                                            content\n",
       "0      1  Reuters - Saboteurs blew up an internal oil\\pi...\n",
       "1      1  The UN envoy to Sudan urged the government to ...\n",
       "2      1  Palestinian gunmen have released an Israeli Ar...\n",
       "3      1  Washington on Tuesday swept aside objections f...\n",
       "4      1  DEAF children helped by kidnapped Margaret Has..."
      ]
     },
     "execution_count": 1,
     "metadata": {},
     "output_type": "execute_result"
    }
   ],
   "source": [
    "# read data \n",
    "import pandas as pd\n",
    "\n",
    "original_file_path = './data.csv'\n",
    "save_home = './'\n",
    "datatype = 'train'\n",
    "df = pd.read_csv(original_file_path)\n",
    "df.head()"
   ]
  },
  {
   "cell_type": "code",
   "execution_count": 2,
   "metadata": {},
   "outputs": [],
   "source": [
    "# Data Augmentation Example: (1) Synonym Replacement; (2) Back Translation\n",
    "df = df[:10]    # comment out this line to process the whole dataset; note that back translation is very time-consuming. "
   ]
  },
  {
   "cell_type": "code",
   "execution_count": 3,
   "metadata": {},
   "outputs": [
    {
     "name": "stderr",
     "output_type": "stream",
     "text": [
      "/home/pzou3/anaconda3/envs/B_DeCoTa/lib/python3.7/site-packages/tqdm/auto.py:22: TqdmWarning: IProgress not found. Please update jupyter and ipywidgets. See https://ipywidgets.readthedocs.io/en/stable/user_install.html\n",
      "  from .autonotebook import tqdm as notebook_tqdm\n",
      "  0%|          | 0/10 [00:00<?, ?it/s]/home/pzou3/anaconda3/envs/B_DeCoTa/lib/python3.7/site-packages/ipykernel_launcher.py:8: SettingWithCopyWarning: \n",
      "A value is trying to be set on a copy of a slice from a DataFrame\n",
      "\n",
      "See the caveats in the documentation: https://pandas.pydata.org/pandas-docs/stable/user_guide/indexing.html#returning-a-view-versus-a-copy\n",
      "  \n",
      "/home/pzou3/anaconda3/envs/B_DeCoTa/lib/python3.7/site-packages/pandas/core/indexing.py:1732: SettingWithCopyWarning: \n",
      "A value is trying to be set on a copy of a slice from a DataFrame\n",
      "\n",
      "See the caveats in the documentation: https://pandas.pydata.org/pandas-docs/stable/user_guide/indexing.html#returning-a-view-versus-a-copy\n",
      "  self._setitem_single_block(indexer, value, name)\n",
      "100%|██████████| 10/10 [00:00<00:00, 97.56it/s]\n"
     ]
    }
   ],
   "source": [
    "# (1) Weak Augmentation: Synonym Replacement\n",
    "import nlpaug.augmenter.word as naw\n",
    "from tqdm import tqdm\n",
    "\n",
    "df['synonym_aug'] = 0\n",
    "aug = naw.SynonymAug(aug_src='wordnet')\n",
    "for idx, row in tqdm(df.iterrows(), total=df.shape[0]):\n",
    "    df['synonym_aug'][idx] = aug.augment(row['content'])[0]\n",
    "df.to_csv(save_home + datatype + \".csv\",index=False)"
   ]
  },
  {
   "cell_type": "code",
   "execution_count": 4,
   "metadata": {},
   "outputs": [
    {
     "name": "stdout",
     "output_type": "stream",
     "text": [
      "gpu num:  4\n"
     ]
    },
    {
     "name": "stderr",
     "output_type": "stream",
     "text": [
      "  0%|          | 0/10 [00:00<?, ?it/s]/home/pzou3/anaconda3/envs/B_DeCoTa/lib/python3.7/site-packages/ipykernel_launcher.py:20: SettingWithCopyWarning: \n",
      "A value is trying to be set on a copy of a slice from a DataFrame\n",
      "\n",
      "See the caveats in the documentation: https://pandas.pydata.org/pandas-docs/stable/user_guide/indexing.html#returning-a-view-versus-a-copy\n",
      "100%|██████████| 10/10 [00:08<00:00,  1.13it/s]\n"
     ]
    }
   ],
   "source": [
    "# (2) Strong Augmentation: Back Translation\n",
    "import nlpaug.augmenter.word as naw\n",
    "import pandas as pd\n",
    "from tqdm import tqdm\n",
    "import torch\n",
    "\n",
    "device = torch.device(\"cuda\" if torch.cuda.is_available() else \"cpu\")\n",
    "n_gpu = torch.cuda.device_count()\n",
    "print(\"gpu num: \", n_gpu)\n",
    "# file = \"unlabeled_data.csv\"\n",
    "# df = pd.read_csv(file)\n",
    "df['back_translation'] = 0\n",
    "back_translation_aug = naw.BackTranslationAug(\n",
    "    from_model_name='facebook/wmt19-en-de', \n",
    "    to_model_name='facebook/wmt19-de-en',\n",
    "    device=device\n",
    ")\n",
    "\n",
    "for idx, row in tqdm(df.iterrows(), total=df.shape[0]):\n",
    "    df['back_translation'][idx] = back_translation_aug.augment(row['content'])[0]\n",
    "df.to_csv(save_home + datatype + \".csv\",index=False)\n"
   ]
  },
  {
   "cell_type": "code",
   "execution_count": 5,
   "metadata": {},
   "outputs": [
    {
     "data": {
      "text/html": [
       "<div>\n",
       "<style scoped>\n",
       "    .dataframe tbody tr th:only-of-type {\n",
       "        vertical-align: middle;\n",
       "    }\n",
       "\n",
       "    .dataframe tbody tr th {\n",
       "        vertical-align: top;\n",
       "    }\n",
       "\n",
       "    .dataframe thead th {\n",
       "        text-align: right;\n",
       "    }\n",
       "</style>\n",
       "<table border=\"1\" class=\"dataframe\">\n",
       "  <thead>\n",
       "    <tr style=\"text-align: right;\">\n",
       "      <th></th>\n",
       "      <th>label</th>\n",
       "      <th>content</th>\n",
       "      <th>synonym_aug</th>\n",
       "      <th>back_translation</th>\n",
       "    </tr>\n",
       "  </thead>\n",
       "  <tbody>\n",
       "    <tr>\n",
       "      <th>0</th>\n",
       "      <td>1</td>\n",
       "      <td>Reuters - Saboteurs blew up an internal oil\\pi...</td>\n",
       "      <td>Reuters - Saboteurs blew upwards an internal f...</td>\n",
       "      <td>Reuters - Saboteurs blew up an internal oil pi...</td>\n",
       "    </tr>\n",
       "    <tr>\n",
       "      <th>1</th>\n",
       "      <td>1</td>\n",
       "      <td>The UN envoy to Sudan urged the government to ...</td>\n",
       "      <td>The UN emissary to Soudan cheer the government...</td>\n",
       "      <td>The UN envoy to Sudan urged the government to ...</td>\n",
       "    </tr>\n",
       "    <tr>\n",
       "      <th>2</th>\n",
       "      <td>1</td>\n",
       "      <td>Palestinian gunmen have released an Israeli Ar...</td>\n",
       "      <td>Palestinian hired gun accept released an Israe...</td>\n",
       "      <td>Palestinian gunmen have freed an Israeli Arab ...</td>\n",
       "    </tr>\n",
       "    <tr>\n",
       "      <th>3</th>\n",
       "      <td>1</td>\n",
       "      <td>Washington on Tuesday swept aside objections f...</td>\n",
       "      <td>Washington on Tuesday swept aside objections f...</td>\n",
       "      <td>Washington brushed aside objections from Beiru...</td>\n",
       "    </tr>\n",
       "    <tr>\n",
       "      <th>4</th>\n",
       "      <td>1</td>\n",
       "      <td>DEAF children helped by kidnapped Margaret Has...</td>\n",
       "      <td>DEAF children help by kidnapped Margaret Hassa...</td>\n",
       "      <td>Deaf children supported by kidnapped Margaret ...</td>\n",
       "    </tr>\n",
       "  </tbody>\n",
       "</table>\n",
       "</div>"
      ],
      "text/plain": [
       "   label                                            content  \\\n",
       "0      1  Reuters - Saboteurs blew up an internal oil\\pi...   \n",
       "1      1  The UN envoy to Sudan urged the government to ...   \n",
       "2      1  Palestinian gunmen have released an Israeli Ar...   \n",
       "3      1  Washington on Tuesday swept aside objections f...   \n",
       "4      1  DEAF children helped by kidnapped Margaret Has...   \n",
       "\n",
       "                                         synonym_aug  \\\n",
       "0  Reuters - Saboteurs blew upwards an internal f...   \n",
       "1  The UN emissary to Soudan cheer the government...   \n",
       "2  Palestinian hired gun accept released an Israe...   \n",
       "3  Washington on Tuesday swept aside objections f...   \n",
       "4  DEAF children help by kidnapped Margaret Hassa...   \n",
       "\n",
       "                                    back_translation  \n",
       "0  Reuters - Saboteurs blew up an internal oil pi...  \n",
       "1  The UN envoy to Sudan urged the government to ...  \n",
       "2  Palestinian gunmen have freed an Israeli Arab ...  \n",
       "3  Washington brushed aside objections from Beiru...  \n",
       "4  Deaf children supported by kidnapped Margaret ...  "
      ]
     },
     "execution_count": 5,
     "metadata": {},
     "output_type": "execute_result"
    }
   ],
   "source": [
    "# Display Augmented Examples\n",
    "df.head()"
   ]
  }
 ],
 "metadata": {
  "kernelspec": {
   "display_name": "B_DeCoTa",
   "language": "python",
   "name": "python3"
  },
  "language_info": {
   "codemirror_mode": {
    "name": "ipython",
    "version": 3
   },
   "file_extension": ".py",
   "mimetype": "text/x-python",
   "name": "python",
   "nbconvert_exporter": "python",
   "pygments_lexer": "ipython3",
   "version": "3.7.13"
  },
  "orig_nbformat": 4
 },
 "nbformat": 4,
 "nbformat_minor": 2
}
